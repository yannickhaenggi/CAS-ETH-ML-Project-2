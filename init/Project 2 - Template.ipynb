{
  "cells": [
    {
      "cell_type": "markdown",
      "metadata": {
        "id": "a7Bf9ZaIwstM"
      },
      "source": [
        "### Introduction to Machine Learning in Finance and Insurance (Spring 2024)\n",
        "# Project 2: Insurance Claim Prediction"
      ]
    },
    {
      "cell_type": "markdown",
      "metadata": {
        "id": "EIIAiZoGCFr-"
      },
      "source": [
        "### Team members: LastName1 FirstName1, LastName2 FirstName2, LastName3 FirstName3"
      ]
    },
    {
      "cell_type": "code",
      "execution_count": 1,
      "metadata": {
        "id": "tBchH-QYCFr-"
      },
      "outputs": [],
      "source": [
        "### Import all the Python libraries you are going to use\n",
        "import numpy as np\n",
        "import matplotlib.pyplot as plt"
      ]
    },
    {
      "cell_type": "code",
      "execution_count": 3,
      "metadata": {
        "id": "xy1f6bjaCFr_"
      },
      "outputs": [],
      "source": [
        "### Fix random seed for reproducibility\n",
        "np.random.seed(23)"
      ]
    },
    {
      "cell_type": "markdown",
      "metadata": {
        "id": "79GLxyheCFsA"
      },
      "source": [
        "# Exercise 1. Poisson GLM."
      ]
    },
    {
      "cell_type": "code",
      "execution_count": null,
      "metadata": {
        "id": "myAkFsvViXUx"
      },
      "outputs": [],
      "source": [
        "# Read csv file\n",
        "# You can use pandas (see the notebook \"Project 2 - Insurance Claim Prediction - Sandbox\")\n"
      ]
    },
    {
      "cell_type": "code",
      "execution_count": null,
      "metadata": {
        "id": "AVIasZA0BtW7"
      },
      "outputs": [],
      "source": [
        "# Pre-process features\n"
      ]
    },
    {
      "cell_type": "code",
      "execution_count": null,
      "metadata": {
        "id": "JbGCLJ-9BtW8"
      },
      "outputs": [],
      "source": [
        "# Train-test split\n"
      ]
    },
    {
      "cell_type": "code",
      "execution_count": null,
      "metadata": {
        "id": "QHgXSu3SBtW8"
      },
      "outputs": [],
      "source": [
        "# Train Poisson GLM\n",
        "# You can use sklearn.linear_model.Poisson_Regressor (see the notebook \"Project 2 - Insurance Claim Prediction - Sandbox\")\n"
      ]
    },
    {
      "cell_type": "code",
      "execution_count": null,
      "metadata": {
        "id": "5bsXxSpgBtW9"
      },
      "outputs": [],
      "source": [
        "# Print MAE, MSE and loss on train and test data sets\n"
      ]
    },
    {
      "cell_type": "markdown",
      "metadata": {
        "id": "4L0pOrESCFsA"
      },
      "source": [
        "# Exercise 2. Poisson feedforward neural network."
      ]
    },
    {
      "cell_type": "code",
      "execution_count": null,
      "metadata": {
        "id": "wrE1FTViCFsC"
      },
      "outputs": [],
      "source": [
        "# Implement and train a neural network model\n",
        "# You can use Keras (see the notebook \"Project 2 - Insurance Claim Prediction - Sandbox\")\n"
      ]
    },
    {
      "cell_type": "code",
      "execution_count": null,
      "metadata": {
        "id": "ZlTTVLJ9BtW9"
      },
      "outputs": [],
      "source": [
        "# Print MAE, MSE and loss on train and test data sets\n"
      ]
    }
  ],
  "metadata": {
    "colab": {
      "provenance": []
    },
    "kernelspec": {
      "display_name": "Python 3 (ipykernel)",
      "language": "python",
      "name": "python3"
    },
    "language_info": {
      "codemirror_mode": {
        "name": "ipython",
        "version": 3
      },
      "file_extension": ".py",
      "mimetype": "text/x-python",
      "name": "python",
      "nbconvert_exporter": "python",
      "pygments_lexer": "ipython3",
      "version": "3.11.5"
    }
  },
  "nbformat": 4,
  "nbformat_minor": 0
}